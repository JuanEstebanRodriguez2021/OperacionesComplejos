{
 "cells": [
  {
   "cell_type": "markdown",
   "metadata": {},
   "source": [
    "# Taller 2 CNYT Juan Esteban Rodriguez\n",
    "\n",
    "Sacado del archivo Complex_Vector.ipynb\n",
    "\n",
    "Ejercicio 1"
   ]
  },
  {
   "cell_type": "code",
   "execution_count": 1,
   "metadata": {},
   "outputs": [
    {
     "name": "stdout",
     "output_type": "stream",
     "text": [
      "[3.+1.j 7.+1.j]\n"
     ]
    }
   ],
   "source": [
    "import numpy as np\n",
    "\n",
    "v1 = np.array([1 + 2j, 3 - 1j])\n",
    "v2 = np.array([2 - 1j, 4 + 2j])\n",
    "\n",
    "v_sum = v1 + v2\n",
    "\n",
    "print(v_sum)"
   ]
  },
  {
   "cell_type": "markdown",
   "metadata": {},
   "source": [
    "Ejercicio 2"
   ]
  },
  {
   "cell_type": "code",
   "execution_count": 2,
   "metadata": {},
   "outputs": [
    {
     "name": "stdout",
     "output_type": "stream",
     "text": [
      "[-2.-3.j -1.+2.j]\n"
     ]
    }
   ],
   "source": [
    "import numpy as np\n",
    "\n",
    "v = np.array([2 + 3j, 1 - 2j])\n",
    "\n",
    "v_negation = -v\n",
    "\n",
    "print(v_negation)\n"
   ]
  },
  {
   "cell_type": "markdown",
   "metadata": {},
   "source": [
    "Ejercicio 3"
   ]
  },
  {
   "cell_type": "code",
   "execution_count": 3,
   "metadata": {},
   "outputs": [
    {
     "name": "stdout",
     "output_type": "stream",
     "text": [
      "[4.-2.j 4.+8.j]\n"
     ]
    }
   ],
   "source": [
    "import numpy as np\n",
    "\n",
    "v = np.array([1 - 1j, 2 + 2j])\n",
    "scalar = 3 + 1j\n",
    "\n",
    "v_scaled = scalar * v\n",
    "\n",
    "print(v_scaled)"
   ]
  },
  {
   "cell_type": "markdown",
   "metadata": {},
   "source": [
    "Ejercicio 4"
   ]
  },
  {
   "cell_type": "code",
   "execution_count": 4,
   "metadata": {},
   "outputs": [
    {
     "name": "stdout",
     "output_type": "stream",
     "text": [
      "[2.-1.j 3.+4.j]\n"
     ]
    }
   ],
   "source": [
    "import numpy as np\n",
    "\n",
    "v = np.array([2-1j, 3+4j])\n",
    "\n",
    "transpose_v = v.T\n",
    "\n",
    "print(transpose_v)"
   ]
  },
  {
   "cell_type": "markdown",
   "metadata": {},
   "source": [
    "Ejercicio 5\n"
   ]
  },
  {
   "cell_type": "code",
   "execution_count": 5,
   "metadata": {},
   "outputs": [
    {
     "name": "stdout",
     "output_type": "stream",
     "text": [
      "[1.-1.j 2.+3.j]\n"
     ]
    }
   ],
   "source": [
    "import numpy as np \n",
    "\n",
    "v = np.array([1+ 1j, 2-3j])\n",
    "\n",
    "conjugate_v = np.conjugate(v)\n",
    "\n",
    "print(conjugate_v)"
   ]
  },
  {
   "cell_type": "markdown",
   "metadata": {},
   "source": [
    "Ejercicio 6\n"
   ]
  },
  {
   "cell_type": "code",
   "execution_count": 1,
   "metadata": {},
   "outputs": [
    {
     "name": "stdout",
     "output_type": "stream",
     "text": [
      "Adjunta del vector v:\n",
      "[[1.+2.j 3.-1.j]]\n"
     ]
    }
   ],
   "source": [
    "import numpy as np\n",
    "\n",
    "v = np.array([[1 - 2j], [3 + 1j]])\n",
    "v_adjunct = np.conjugate(v).T\n",
    "\n",
    "print(\"Adjunta del vector v:\")\n",
    "print(v_adjunct)\n"
   ]
  },
  {
   "cell_type": "markdown",
   "metadata": {},
   "source": [
    "Ejercicio 7\n"
   ]
  },
  {
   "cell_type": "code",
   "execution_count": 2,
   "metadata": {},
   "outputs": [
    {
     "name": "stdout",
     "output_type": "stream",
     "text": [
      "Suma de las matrices m1 y m2:\n",
      "[[3.-2.j 3.-1.j]\n",
      " [3.+3.j 6.+2.j]]\n"
     ]
    }
   ],
   "source": [
    "import numpy as np\n",
    "\n",
    "m1 = np.array([[1 + 1j, 2 - 1j], [3 + 2j, 4]])\n",
    "m2 = np.array([[2 - 3j, 1], [0 + 1j, 2 + 2j]])\n",
    "\n",
    "m_sum = m1 + m2\n",
    "\n",
    "print(\"Suma de las matrices m1 y m2:\")\n",
    "print(m_sum)"
   ]
  },
  {
   "cell_type": "markdown",
   "metadata": {},
   "source": [
    "Ejercicio 8"
   ]
  },
  {
   "cell_type": "code",
   "execution_count": 4,
   "metadata": {},
   "outputs": [
    {
     "name": "stdout",
     "output_type": "stream",
     "text": [
      "Negación de la matriz m:\n",
      "[[-2.-1.j -3.-0.j]\n",
      " [-1.+1.j -2.-2.j]]\n"
     ]
    }
   ],
   "source": [
    "import numpy as np\n",
    "\n",
    "m = np.array([[2 + 1j, 3], [1 - 1j, 2 + 2j]])\n",
    "\n",
    "m_negation = -m\n",
    "\n",
    "print(\"Negación de la matriz m:\")\n",
    "print(m_negation)"
   ]
  },
  {
   "cell_type": "markdown",
   "metadata": {},
   "source": [
    "Ejercicio 9"
   ]
  },
  {
   "cell_type": "code",
   "execution_count": 5,
   "metadata": {},
   "outputs": [
    {
     "name": "stdout",
     "output_type": "stream",
     "text": [
      "Multiplicacion de la matriz m por un escalar (2 + 3j):\n",
      "[[ 5. +1.j  4. +6.j]\n",
      " [ 3.+11.j 14. +8.j]]\n"
     ]
    }
   ],
   "source": [
    "import numpy as np\n",
    "\n",
    "m = np.array([[1 - 1j, 2], [3 + 1j, 4 - 2j]])\n",
    "scalar = 2 + 3j\n",
    "\n",
    "m_mult = scalar * m\n",
    "\n",
    "print(\"Multiplicacion de la matriz m por un escalar (2 + 3j):\")\n",
    "print(m_mult)"
   ]
  },
  {
   "cell_type": "markdown",
   "metadata": {},
   "source": [
    "Ejercicio 10"
   ]
  },
  {
   "cell_type": "code",
   "execution_count": 1,
   "metadata": {},
   "outputs": [
    {
     "name": "stdout",
     "output_type": "stream",
     "text": [
      "Matriz original:\n",
      " [[1.+1.j 2.+0.j]\n",
      " [3.-1.j 4.+2.j]]\n",
      "\n",
      "Conjugado de la matriz:\n",
      " [[1.-1.j 2.-0.j]\n",
      " [3.+1.j 4.-2.j]]\n"
     ]
    }
   ],
   "source": [
    "import numpy as np\n",
    "\n",
    "\n",
    "m = np.array([[1 + 1j, 2], [3 - 1j, 4 + 2j]])\n",
    "\n",
    "\n",
    "conjugate_m = np.conjugate(m)\n",
    "\n",
    "print(\"Matriz original:\\n\", m)\n",
    "print(\"\\nConjugado de la matriz:\\n\", conjugate_m)\n"
   ]
  },
  {
   "cell_type": "markdown",
   "metadata": {},
   "source": [
    "Ejercicio 11\n"
   ]
  },
  {
   "cell_type": "code",
   "execution_count": 2,
   "metadata": {},
   "outputs": [
    {
     "name": "stdout",
     "output_type": "stream",
     "text": [
      "Matriz original:\n",
      " [[1.-1.j 2.+2.j]\n",
      " [3.+0.j 4.-1.j]]\n",
      "\n",
      "Transpuesta de la matriz:\n",
      " [[1.-1.j 3.+0.j]\n",
      " [2.+2.j 4.-1.j]]\n"
     ]
    }
   ],
   "source": [
    "import numpy as np\n",
    "m = np.array([[1 - 1j, 2 + 2j], [3, 4 - 1j]])\n",
    "\n",
    "transpose_m = np.transpose(m)\n",
    "\n",
    "print(\"Matriz original:\\n\", m)\n",
    "print(\"\\nTranspuesta de la matriz:\\n\", transpose_m)\n"
   ]
  },
  {
   "cell_type": "markdown",
   "metadata": {},
   "source": [
    "Ejercicio 12"
   ]
  },
  {
   "cell_type": "code",
   "execution_count": 3,
   "metadata": {},
   "outputs": [
    {
     "name": "stdout",
     "output_type": "stream",
     "text": [
      "Matriz original:\n",
      " [[1.+2.j 3.-1.j]\n",
      " [4.+0.j 5.+1.j]]\n",
      "\n",
      "Adjunto (transpuesta conjugada) de la matriz:\n",
      " [[1.-2.j 4.-0.j]\n",
      " [3.+1.j 5.-1.j]]\n"
     ]
    }
   ],
   "source": [
    "import numpy as np\n",
    "m = np.array([[1 + 2j, 3 - 1j], [4, 5 + 1j]])\n",
    "\n",
    "\n",
    "adjoint_m = np.conjugate(np.transpose(m))\n",
    "\n",
    "print(\"Matriz original:\\n\", m)\n",
    "print(\"\\nAdjunto (transpuesta conjugada) de la matriz:\\n\", adjoint_m)\n"
   ]
  },
  {
   "cell_type": "markdown",
   "metadata": {},
   "source": [
    "Ejercicio 13"
   ]
  },
  {
   "cell_type": "code",
   "execution_count": 4,
   "metadata": {},
   "outputs": [
    {
     "name": "stdout",
     "output_type": "stream",
     "text": [
      "Matriz original:\n",
      " [[1.-1.j 2.+0.j]\n",
      " [3.+2.j 4.-1.j]]\n",
      "\n",
      "Dimensiones de la matriz: (2, 2)\n"
     ]
    }
   ],
   "source": [
    "import numpy as np\n",
    "m = np.array([[1 - 1j, 2], [3 + 2j, 4 - 1j]])\n",
    "\n",
    "# Dimensiones\n",
    "dimensions = m.shape\n",
    "\n",
    "print(\"Matriz original:\\n\", m)\n",
    "print(\"\\nDimensiones de la matriz:\", dimensions)\n"
   ]
  },
  {
   "cell_type": "markdown",
   "metadata": {},
   "source": [
    "Ejercicio 14"
   ]
  },
  {
   "cell_type": "code",
   "execution_count": 5,
   "metadata": {},
   "outputs": [
    {
     "name": "stdout",
     "output_type": "stream",
     "text": [
      "Matriz original:\n",
      " [[1.+1.j 2.-1.j]\n",
      " [3.+0.j 4.+1.j]]\n",
      "\n",
      "Vector columna:\n",
      " [[2.-1.j]\n",
      " [1.+3.j]]\n",
      "\n",
      "Resultado de la multiplicación:\n",
      " [[8. +6.j]\n",
      " [7.+10.j]]\n"
     ]
    }
   ],
   "source": [
    "import numpy as np\n",
    "m = np.array([[1 + 1j, 2 - 1j], [3, 4 + 1j]])\n",
    "\n",
    "\n",
    "v = np.array([[2 - 1j], [1 + 3j]])\n",
    "\n",
    "\n",
    "result = np.dot(m, v)\n",
    "\n",
    "print(\"Matriz original:\\n\", m)\n",
    "print(\"\\nVector columna:\\n\", v)\n",
    "print(\"\\nResultado de la multiplicación:\\n\", result)\n"
   ]
  }
 ],
 "metadata": {
  "kernelspec": {
   "display_name": ".venv",
   "language": "python",
   "name": "python3"
  },
  "language_info": {
   "codemirror_mode": {
    "name": "ipython",
    "version": 3
   },
   "file_extension": ".py",
   "mimetype": "text/x-python",
   "name": "python",
   "nbconvert_exporter": "python",
   "pygments_lexer": "ipython3",
   "version": "3.9.2"
  }
 },
 "nbformat": 4,
 "nbformat_minor": 2
}
