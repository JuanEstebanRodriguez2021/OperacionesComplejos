{
 "cells": [
  {
   "cell_type": "markdown",
   "metadata": {},
   "source": [
    "# Taller 4 CNYT Juan Esteban Rodriguez"
   ]
  },
  {
   "cell_type": "markdown",
   "metadata": {},
   "source": [
    "Ejericicio 1\n"
   ]
  },
  {
   "cell_type": "code",
   "execution_count": 7,
   "metadata": {},
   "outputs": [
    {
     "name": "stdout",
     "output_type": "stream",
     "text": [
      "Valores Propios: [ 4.44948974-5.06745162e-17j -0.44948974+5.06745162e-17j]\n",
      "Es Matriz Hermitiana?: True\n"
     ]
    }
   ],
   "source": [
    "import numpy as np\n",
    "\n",
    "# Define a complex Hermitian matrix\n",
    "hermitian_matrix = np.array([[3, 2+1j], [2-1j, 1]])\n",
    "\n",
    "# Check if the matrix is Hermitian\n",
    "is_hermitian = np.allclose(hermitian_matrix, hermitian_matrix.conj().T)\n",
    "\n",
    "is_hermitian, hermitian_matrix\n",
    "\n",
    "eigenvalues = np.linalg.eigvals(hermitian_matrix)\n",
    "print(\"Valores Propios:\", eigenvalues)\n",
    "print(\"Es Matriz Hermitiana?:\",is_hermitian)\n"
   ]
  },
  {
   "cell_type": "markdown",
   "metadata": {},
   "source": [
    "Ejercicio 2"
   ]
  },
  {
   "cell_type": "code",
   "execution_count": 8,
   "metadata": {},
   "outputs": [
    {
     "name": "stdout",
     "output_type": "stream",
     "text": [
      "UU_adjunta:\n",
      " [[1.+0.00000000e+00j 0.+2.23711432e-17j]\n",
      " [0.-2.23711432e-17j 1.+0.00000000e+00j]]\n",
      "U es Unitaria? : True\n"
     ]
    }
   ],
   "source": [
    "import numpy as np\n",
    "\n",
    "U = (1 / np.sqrt(2)) * np.array([[1, 1j], [1j, 1]])\n",
    "\n",
    "is_unitary = np.allclose(np.dot(U, U.conj().T), np.eye(2))\n",
    "\n",
    "U_adjunt = np.conj(U.T)\n",
    "UU_adjunt = np.dot(U, U_adjunt)\n",
    "print(\"UU_adjunta:\\n\", UU_adjunt)\n",
    "print(\"U es Unitaria? :\", is_unitary)"
   ]
  },
  {
   "cell_type": "markdown",
   "metadata": {},
   "source": [
    "Ejercicio 3"
   ]
  },
  {
   "cell_type": "code",
   "execution_count": 9,
   "metadata": {},
   "outputs": [
    {
     "name": "stdout",
     "output_type": "stream",
     "text": [
      "Producto Tensor v ⊗ w: [3.-1.j 3.+3.j 0.-5.j 6.-3.j]\n"
     ]
    }
   ],
   "source": [
    "import numpy as np\n",
    "\n",
    "v = np.array([1 + 1j, 2 - 1j])\n",
    "w = np.array([1 - 2j, 3])\n",
    "tensor_product = np.kron(v, w)\n",
    "print(\"Producto Tensor v ⊗ w:\", tensor_product)"
   ]
  },
  {
   "cell_type": "markdown",
   "metadata": {},
   "source": [
    "Ejercicio 4"
   ]
  },
  {
   "cell_type": "code",
   "execution_count": 10,
   "metadata": {},
   "outputs": [
    {
     "name": "stdout",
     "output_type": "stream",
     "text": [
      "Producto Tensor M1 ⊗ M2:\n",
      " [[0.+0.j 0.+0.j 0.+1.j 0.+0.j]\n",
      " [0.+0.j 0.-0.j 0.+0.j 0.-1.j]\n",
      " [0.+1.j 0.+0.j 0.+0.j 0.+0.j]\n",
      " [0.+0.j 0.-1.j 0.+0.j 0.-0.j]]\n"
     ]
    }
   ],
   "source": [
    "import numpy as np\n",
    "\n",
    "M1 = np.array([[0, 1], [1, 0]])\n",
    "M2 = np.array([[1j, 0], [0, -1j]])\n",
    "tensor_product_matrices = np.kron(M1, M2)\n",
    "print(\"Producto Tensor M1 ⊗ M2:\\n\", tensor_product_matrices)"
   ]
  },
  {
   "cell_type": "markdown",
   "metadata": {},
   "source": [
    "Ejercicio 5"
   ]
  },
  {
   "cell_type": "code",
   "execution_count": 12,
   "metadata": {},
   "outputs": [
    {
     "name": "stdout",
     "output_type": "stream",
     "text": [
      "Estado Cuantico Final:\n",
      "[[1.00000000e+00]\n",
      " [2.23711432e-17]]\n"
     ]
    }
   ],
   "source": [
    "import numpy as np\n",
    "\n",
    "ket_0 = np.array([[1], [0]])\n",
    "ket_1 = np.array([[0], [1]])\n",
    "\n",
    "H = 1/np.sqrt(2) * np.array([[1, 1], [1, -1]])\n",
    "\n",
    "X = np.array([[0, 1], [1, 0]])\n",
    "\n",
    "initial_state = ket_0\n",
    "\n",
    "state_after_H = np.dot(H, initial_state)\n",
    "\n",
    "state_after_X = np.dot(X, state_after_H)\n",
    "\n",
    "final_state = np.dot(H, state_after_X)\n",
    "\n",
    "print(\"Estado Cuantico Final:\")\n",
    "print(final_state)\n",
    "\n",
    "\n"
   ]
  },
  {
   "cell_type": "markdown",
   "metadata": {},
   "source": [
    "Ejercicio 6"
   ]
  },
  {
   "cell_type": "code",
   "execution_count": 13,
   "metadata": {},
   "outputs": [
    {
     "name": "stdout",
     "output_type": "stream",
     "text": [
      "Estado final despues del Circuito:\n",
      "[[ 0.        ]\n",
      " [ 0.        ]\n",
      " [-0.70710678]\n",
      " [ 0.70710678]]\n"
     ]
    }
   ],
   "source": [
    "import numpy as np\n",
    "\n",
    "ket_0 = np.array([[1], [0]])\n",
    "ket_1 = np.array([[0], [1]])\n",
    "\n",
    "H = 1/np.sqrt(2) * np.array([[1, 1], [1, -1]])\n",
    "\n",
    "Uf = np.array([[0, 1, 0, 0],\n",
    "               [1, 0, 0, 0],\n",
    "               [0, 0, 1, 0],\n",
    "               [0, 0, 0, 1]])\n",
    "\n",
    "initial_state = np.kron(ket_0, ket_1)\n",
    "\n",
    "H_2qubit = np.kron(H, H)\n",
    "state_after_H = np.dot(H_2qubit, initial_state)\n",
    "\n",
    "state_after_Uf = np.dot(Uf, state_after_H)\n",
    "\n",
    "H_first_qubit = np.kron(H, np.eye(2))\n",
    "final_state = np.dot(H_first_qubit, state_after_Uf)\n",
    "\n",
    "\n",
    "print(\"Estado final despues del Circuito:\")\n",
    "print(final_state)\n",
    "\n",
    "\n"
   ]
  }
 ],
 "metadata": {
  "kernelspec": {
   "display_name": ".venv",
   "language": "python",
   "name": "python3"
  },
  "language_info": {
   "codemirror_mode": {
    "name": "ipython",
    "version": 3
   },
   "file_extension": ".py",
   "mimetype": "text/x-python",
   "name": "python",
   "nbconvert_exporter": "python",
   "pygments_lexer": "ipython3",
   "version": "3.9.2"
  }
 },
 "nbformat": 4,
 "nbformat_minor": 2
}
